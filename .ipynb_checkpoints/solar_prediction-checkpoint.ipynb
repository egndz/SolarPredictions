{
 "cells": [
  {
   "cell_type": "code",
   "execution_count": 116,
   "metadata": {
    "ExecuteTime": {
     "end_time": "2019-12-13T21:53:14.928573Z",
     "start_time": "2019-12-13T21:53:14.924485Z"
    }
   },
   "outputs": [],
   "source": [
    "import pandas as pd\n",
    "import random\n",
    "from pysolar import solar\n",
    "import datetime\n",
    "import reverse_geocoder as rg "
   ]
  },
  {
   "cell_type": "code",
   "execution_count": 117,
   "metadata": {
    "ExecuteTime": {
     "end_time": "2019-12-13T21:53:15.223437Z",
     "start_time": "2019-12-13T21:53:15.219032Z"
    }
   },
   "outputs": [],
   "source": [
    "now = datetime.datetime.now(datetime.timezone.utc)\n",
    "date_format = \"%b %d %Y %H:%15\"\n",
    "total_minutes_in_year = 60*24*365\n",
    "\n",
    "#Turkey's latitude and longitude ranges\n",
    "min_latitude = 35.9025\n",
    "max_latitude = 42.0268\n",
    "min_longitude = 25.9090\n",
    "max_longitude = 44.5742"
   ]
  },
  {
   "cell_type": "code",
   "execution_count": 118,
   "metadata": {
    "ExecuteTime": {
     "end_time": "2019-12-13T21:53:15.530664Z",
     "start_time": "2019-12-13T21:53:15.524976Z"
    }
   },
   "outputs": [],
   "source": [
    "def get_altitude_by_location(lat,lon,date):\n",
    "    return solar.get_altitude(lat, lon, date)\n",
    "\n",
    "def get_azimuth_by_location(lat,lon,date):\n",
    "    return solar.get_azimuth(lat, lon, date)\n",
    "\n",
    "def get_radiation_by_location(lat,lon,date):\n",
    "    return solar.radiation.get_radiation_direct(date, get_altitude_by_location(lat,lon,date))"
   ]
  },
  {
   "cell_type": "code",
   "execution_count": 119,
   "metadata": {
    "ExecuteTime": {
     "end_time": "2019-12-13T21:53:15.948532Z",
     "start_time": "2019-12-13T21:53:15.944115Z"
    }
   },
   "outputs": [],
   "source": [
    "def get_solar_info(lat,lon,date):\n",
    "    return get_altitude_by_location(lat,lon,date),\\\n",
    "            get_azimuth_by_location(lat,lon,date),\\\n",
    "            get_radiation_by_location(lat,lon,date)"
   ]
  },
  {
   "cell_type": "code",
   "execution_count": 120,
   "metadata": {
    "ExecuteTime": {
     "end_time": "2019-12-13T21:53:17.202611Z",
     "start_time": "2019-12-13T21:53:17.198443Z"
    }
   },
   "outputs": [],
   "source": [
    "def get_location(coordinates):\n",
    "    return rg.search(coordinates) "
   ]
  },
  {
   "cell_type": "code",
   "execution_count": 131,
   "metadata": {
    "ExecuteTime": {
     "end_time": "2019-12-13T21:53:37.282552Z",
     "start_time": "2019-12-13T21:53:37.084861Z"
    }
   },
   "outputs": [
    {
     "name": "stdout",
     "output_type": "stream",
     "text": [
      "Coordinates (37.65081969506939, 28.081440589236752)\n",
      "City name is Aydin \n",
      "County name is Cine\n"
     ]
    }
   ],
   "source": [
    "def get_random_location(min_lat,max_lat,min_lon,max_lon):\n",
    "     return random.uniform(min_lat,max_lat), random.uniform(min_lon,max_lon)\n",
    "\n",
    "location = get_random_location(min_latitude,max_latitude,min_longitude,max_longitude)\n",
    "print(\"Coordinates\", location)\n",
    "result = get_location(location)\n",
    "print(\"City name is\" , result[0][\"admin1\"], \"\\nCounty name is\" ,result[0][\"name\"])\n",
    "latitude, longitude = location[0],location[1]"
   ]
  },
  {
   "cell_type": "code",
   "execution_count": 132,
   "metadata": {
    "ExecuteTime": {
     "end_time": "2019-12-13T21:54:09.083146Z",
     "start_time": "2019-12-13T21:53:40.717036Z"
    }
   },
   "outputs": [],
   "source": [
    "dates = []\n",
    "solar_info = []\n",
    "for min_diff in range(total_minutes_in_year,0,-60):\n",
    "    past_date = now - datetime.timedelta(minutes=min_diff)\n",
    "    dates.append(past_date)\n",
    "    solar_info.append(get_solar_info(latitude,longitude,past_date))"
   ]
  },
  {
   "cell_type": "code",
   "execution_count": 136,
   "metadata": {
    "ExecuteTime": {
     "end_time": "2019-12-13T21:59:07.426284Z",
     "start_time": "2019-12-13T21:59:07.413062Z"
    }
   },
   "outputs": [],
   "source": [
    "df = pd.concat([pd.DataFrame(dates,columns=[\"date\"]),\\\n",
    "                pd.DataFrame(solar_info,columns=[\"altitude\",\"azimuth\",\"solar_radiation\"])],\\\n",
    "               axis=1)"
   ]
  },
  {
   "cell_type": "code",
   "execution_count": 137,
   "metadata": {
    "ExecuteTime": {
     "end_time": "2019-12-13T21:59:07.633994Z",
     "start_time": "2019-12-13T21:59:07.628403Z"
    }
   },
   "outputs": [],
   "source": [
    "df.set_index(\"date\",inplace=True)"
   ]
  },
  {
   "cell_type": "code",
   "execution_count": 141,
   "metadata": {
    "ExecuteTime": {
     "end_time": "2019-12-13T21:59:32.260066Z",
     "start_time": "2019-12-13T21:59:32.247109Z"
    }
   },
   "outputs": [
    {
     "data": {
      "text/html": [
       "<div>\n",
       "<style scoped>\n",
       "    .dataframe tbody tr th:only-of-type {\n",
       "        vertical-align: middle;\n",
       "    }\n",
       "\n",
       "    .dataframe tbody tr th {\n",
       "        vertical-align: top;\n",
       "    }\n",
       "\n",
       "    .dataframe thead th {\n",
       "        text-align: right;\n",
       "    }\n",
       "</style>\n",
       "<table border=\"1\" class=\"dataframe\">\n",
       "  <thead>\n",
       "    <tr style=\"text-align: right;\">\n",
       "      <th></th>\n",
       "      <th>altitude</th>\n",
       "      <th>azimuth</th>\n",
       "      <th>solar_radiation</th>\n",
       "    </tr>\n",
       "    <tr>\n",
       "      <th>date</th>\n",
       "      <th></th>\n",
       "      <th></th>\n",
       "      <th></th>\n",
       "    </tr>\n",
       "  </thead>\n",
       "  <tbody>\n",
       "    <tr>\n",
       "      <td>2018-12-13 21:53:15.221387+00:00</td>\n",
       "      <td>-75.413686</td>\n",
       "      <td>352.015901</td>\n",
       "      <td>0.0</td>\n",
       "    </tr>\n",
       "    <tr>\n",
       "      <td>2018-12-13 22:53:15.221387+00:00</td>\n",
       "      <td>-71.838773</td>\n",
       "      <td>40.848702</td>\n",
       "      <td>0.0</td>\n",
       "    </tr>\n",
       "    <tr>\n",
       "      <td>2018-12-13 23:53:15.221387+00:00</td>\n",
       "      <td>-62.161964</td>\n",
       "      <td>66.678491</td>\n",
       "      <td>0.0</td>\n",
       "    </tr>\n",
       "    <tr>\n",
       "      <td>2018-12-14 00:53:15.221387+00:00</td>\n",
       "      <td>-50.761972</td>\n",
       "      <td>80.890512</td>\n",
       "      <td>0.0</td>\n",
       "    </tr>\n",
       "    <tr>\n",
       "      <td>2018-12-14 01:53:15.221387+00:00</td>\n",
       "      <td>-38.933681</td>\n",
       "      <td>90.930402</td>\n",
       "      <td>0.0</td>\n",
       "    </tr>\n",
       "    <tr>\n",
       "      <td>...</td>\n",
       "      <td>...</td>\n",
       "      <td>...</td>\n",
       "      <td>...</td>\n",
       "    </tr>\n",
       "    <tr>\n",
       "      <td>2019-12-13 16:53:15.221387+00:00</td>\n",
       "      <td>-23.734814</td>\n",
       "      <td>258.267589</td>\n",
       "      <td>0.0</td>\n",
       "    </tr>\n",
       "    <tr>\n",
       "      <td>2019-12-13 17:53:15.221387+00:00</td>\n",
       "      <td>-35.493021</td>\n",
       "      <td>266.564651</td>\n",
       "      <td>0.0</td>\n",
       "    </tr>\n",
       "    <tr>\n",
       "      <td>2019-12-13 18:53:15.221387+00:00</td>\n",
       "      <td>-47.350857</td>\n",
       "      <td>275.987950</td>\n",
       "      <td>0.0</td>\n",
       "    </tr>\n",
       "    <tr>\n",
       "      <td>2019-12-13 19:53:15.221387+00:00</td>\n",
       "      <td>-58.947553</td>\n",
       "      <td>288.551902</td>\n",
       "      <td>0.0</td>\n",
       "    </tr>\n",
       "    <tr>\n",
       "      <td>2019-12-13 20:53:15.221387+00:00</td>\n",
       "      <td>-69.372943</td>\n",
       "      <td>309.729072</td>\n",
       "      <td>0.0</td>\n",
       "    </tr>\n",
       "  </tbody>\n",
       "</table>\n",
       "<p>8760 rows × 3 columns</p>\n",
       "</div>"
      ],
      "text/plain": [
       "                                   altitude     azimuth  solar_radiation\n",
       "date                                                                    \n",
       "2018-12-13 21:53:15.221387+00:00 -75.413686  352.015901              0.0\n",
       "2018-12-13 22:53:15.221387+00:00 -71.838773   40.848702              0.0\n",
       "2018-12-13 23:53:15.221387+00:00 -62.161964   66.678491              0.0\n",
       "2018-12-14 00:53:15.221387+00:00 -50.761972   80.890512              0.0\n",
       "2018-12-14 01:53:15.221387+00:00 -38.933681   90.930402              0.0\n",
       "...                                     ...         ...              ...\n",
       "2019-12-13 16:53:15.221387+00:00 -23.734814  258.267589              0.0\n",
       "2019-12-13 17:53:15.221387+00:00 -35.493021  266.564651              0.0\n",
       "2019-12-13 18:53:15.221387+00:00 -47.350857  275.987950              0.0\n",
       "2019-12-13 19:53:15.221387+00:00 -58.947553  288.551902              0.0\n",
       "2019-12-13 20:53:15.221387+00:00 -69.372943  309.729072              0.0\n",
       "\n",
       "[8760 rows x 3 columns]"
      ]
     },
     "execution_count": 141,
     "metadata": {},
     "output_type": "execute_result"
    }
   ],
   "source": [
    "df"
   ]
  },
  {
   "cell_type": "code",
   "execution_count": null,
   "metadata": {},
   "outputs": [],
   "source": []
  }
 ],
 "metadata": {
  "kernelspec": {
   "display_name": "Python 3",
   "language": "python",
   "name": "python3"
  },
  "language_info": {
   "codemirror_mode": {
    "name": "ipython",
    "version": 3
   },
   "file_extension": ".py",
   "mimetype": "text/x-python",
   "name": "python",
   "nbconvert_exporter": "python",
   "pygments_lexer": "ipython3",
   "version": "3.7.4"
  },
  "toc": {
   "base_numbering": 1,
   "nav_menu": {},
   "number_sections": true,
   "sideBar": true,
   "skip_h1_title": false,
   "title_cell": "Table of Contents",
   "title_sidebar": "Contents",
   "toc_cell": false,
   "toc_position": {},
   "toc_section_display": true,
   "toc_window_display": false
  },
  "varInspector": {
   "cols": {
    "lenName": 16,
    "lenType": 16,
    "lenVar": 40
   },
   "kernels_config": {
    "python": {
     "delete_cmd_postfix": "",
     "delete_cmd_prefix": "del ",
     "library": "var_list.py",
     "varRefreshCmd": "print(var_dic_list())"
    },
    "r": {
     "delete_cmd_postfix": ") ",
     "delete_cmd_prefix": "rm(",
     "library": "var_list.r",
     "varRefreshCmd": "cat(var_dic_list()) "
    }
   },
   "position": {
    "height": "583px",
    "left": "1118px",
    "right": "20px",
    "top": "120px",
    "width": "302px"
   },
   "types_to_exclude": [
    "module",
    "function",
    "builtin_function_or_method",
    "instance",
    "_Feature"
   ],
   "window_display": false
  }
 },
 "nbformat": 4,
 "nbformat_minor": 2
}
