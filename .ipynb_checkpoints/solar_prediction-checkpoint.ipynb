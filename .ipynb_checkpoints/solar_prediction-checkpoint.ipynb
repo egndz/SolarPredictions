{
 "cells": [
  {
   "cell_type": "code",
   "execution_count": 153,
   "metadata": {
    "ExecuteTime": {
     "end_time": "2019-12-15T15:20:41.992241Z",
     "start_time": "2019-12-15T15:20:41.971695Z"
    }
   },
   "outputs": [],
   "source": [
    "import pandas as pd\n",
    "import random\n",
    "from pysolar import solar\n",
    "import datetime\n",
    "import reverse_geocoder as rg "
   ]
  },
  {
   "cell_type": "code",
   "execution_count": 154,
   "metadata": {
    "ExecuteTime": {
     "end_time": "2019-12-15T15:20:42.496112Z",
     "start_time": "2019-12-15T15:20:42.484192Z"
    }
   },
   "outputs": [],
   "source": [
    "now = datetime.datetime.now(datetime.timezone.utc)\n",
    "date_format = \"%b %d %Y %H:%15\"\n",
    "total_minutes_in_year = 60*24*365\n",
    "desired_minutes_range = 60\n",
    "kwp = 4.5\n",
    "\n",
    "#Turkey's latitude and longitude ranges\n",
    "min_latitude = 35.9025\n",
    "max_latitude = 42.0268\n",
    "min_longitude = 25.9090\n",
    "max_longitude = 44.5742"
   ]
  },
  {
   "cell_type": "code",
   "execution_count": 155,
   "metadata": {
    "ExecuteTime": {
     "end_time": "2019-12-15T15:20:43.109215Z",
     "start_time": "2019-12-15T15:20:43.103421Z"
    }
   },
   "outputs": [],
   "source": [
    "def get_altitude_by_location(lat,lon,date):\n",
    "    return solar.get_altitude(lat, lon, date)\n",
    "\n",
    "def get_azimuth_by_location(lat,lon,date):\n",
    "    return solar.get_azimuth(lat, lon, date)\n",
    "\n",
    "def get_radiation_by_location(lat,lon,date):\n",
    "    return solar.radiation.get_radiation_direct(date, get_altitude_by_location(lat,lon,date))"
   ]
  },
  {
   "cell_type": "code",
   "execution_count": 156,
   "metadata": {
    "ExecuteTime": {
     "end_time": "2019-12-15T15:20:43.675489Z",
     "start_time": "2019-12-15T15:20:43.671139Z"
    }
   },
   "outputs": [],
   "source": [
    "def get_solar_info(lat,lon,date):\n",
    "    return get_altitude_by_location(lat,lon,date),\\\n",
    "            get_azimuth_by_location(lat,lon,date),\\\n",
    "            get_radiation_by_location(lat,lon,date)"
   ]
  },
  {
   "cell_type": "code",
   "execution_count": 157,
   "metadata": {
    "ExecuteTime": {
     "end_time": "2019-12-15T15:20:44.208594Z",
     "start_time": "2019-12-15T15:20:44.205041Z"
    }
   },
   "outputs": [],
   "source": [
    "def get_location(coordinates):\n",
    "    return rg.search(coordinates) "
   ]
  },
  {
   "cell_type": "code",
   "execution_count": 158,
   "metadata": {
    "ExecuteTime": {
     "end_time": "2019-12-15T15:20:44.991264Z",
     "start_time": "2019-12-15T15:20:44.790863Z"
    }
   },
   "outputs": [
    {
     "name": "stdout",
     "output_type": "stream",
     "text": [
      "Coordinates (41.78637009968548, 31.2600675500287)\n",
      "City name is Zonguldak \n",
      "County name is Eregli\n"
     ]
    }
   ],
   "source": [
    "def get_random_location(min_lat,max_lat,min_lon,max_lon):\n",
    "     return random.uniform(min_lat,max_lat), random.uniform(min_lon,max_lon)\n",
    "\n",
    "location = get_random_location(min_latitude,max_latitude,min_longitude,max_longitude)\n",
    "print(\"Coordinates\", location)\n",
    "result = get_location(location)\n",
    "print(\"City name is\" , result[0][\"admin1\"], \"\\nCounty name is\" ,result[0][\"name\"])\n",
    "latitude, longitude = location[0],location[1]"
   ]
  },
  {
   "cell_type": "code",
   "execution_count": 149,
   "metadata": {
    "ExecuteTime": {
     "end_time": "2019-12-14T07:09:41.135049Z",
     "start_time": "2019-12-14T07:09:15.655446Z"
    }
   },
   "outputs": [
    {
     "name": "stderr",
     "output_type": "stream",
     "text": [
      "/Users/egehangunduz/opt/anaconda3/lib/python3.7/site-packages/pysolar/solartime.py:112: UserWarning: I don't know about leap seconds after 2018\n",
      "  (leap_seconds_base_year + len(leap_seconds_adjustments) - 1)\n"
     ]
    }
   ],
   "source": [
    "dates = []\n",
    "solar_info = []\n",
    "for min_diff in range(total_minutes_in_year,0,desired_minutes_range*-1):\n",
    "    past_date = now - datetime.timedelta(minutes=min_diff)\n",
    "    dates.append(past_date)\n",
    "    solar_info.append(get_solar_info(latitude,longitude,past_date))"
   ]
  },
  {
   "cell_type": "code",
   "execution_count": 150,
   "metadata": {
    "ExecuteTime": {
     "end_time": "2019-12-14T07:09:41.407754Z",
     "start_time": "2019-12-14T07:09:41.392262Z"
    }
   },
   "outputs": [],
   "source": [
    "df = pd.concat([pd.DataFrame(dates,columns=[\"date\"]),\\\n",
    "                pd.DataFrame(solar_info,columns=[\"altitude\",\"azimuth\",\"solar_radiation\"])],\\\n",
    "               axis=1)"
   ]
  },
  {
   "cell_type": "code",
   "execution_count": 151,
   "metadata": {
    "ExecuteTime": {
     "end_time": "2019-12-14T07:09:41.647571Z",
     "start_time": "2019-12-14T07:09:41.641529Z"
    }
   },
   "outputs": [],
   "source": [
    "df.set_index(\"date\",inplace=True)"
   ]
  },
  {
   "cell_type": "code",
   "execution_count": 152,
   "metadata": {
    "ExecuteTime": {
     "end_time": "2019-12-14T07:09:41.903145Z",
     "start_time": "2019-12-14T07:09:41.890153Z"
    }
   },
   "outputs": [
    {
     "data": {
      "text/html": [
       "<div>\n",
       "<style scoped>\n",
       "    .dataframe tbody tr th:only-of-type {\n",
       "        vertical-align: middle;\n",
       "    }\n",
       "\n",
       "    .dataframe tbody tr th {\n",
       "        vertical-align: top;\n",
       "    }\n",
       "\n",
       "    .dataframe thead th {\n",
       "        text-align: right;\n",
       "    }\n",
       "</style>\n",
       "<table border=\"1\" class=\"dataframe\">\n",
       "  <thead>\n",
       "    <tr style=\"text-align: right;\">\n",
       "      <th></th>\n",
       "      <th>altitude</th>\n",
       "      <th>azimuth</th>\n",
       "      <th>solar_radiation</th>\n",
       "    </tr>\n",
       "    <tr>\n",
       "      <th>date</th>\n",
       "      <th></th>\n",
       "      <th></th>\n",
       "      <th></th>\n",
       "    </tr>\n",
       "  </thead>\n",
       "  <tbody>\n",
       "    <tr>\n",
       "      <td>2018-12-14 07:09:14.166885+00:00</td>\n",
       "      <td>20.420587</td>\n",
       "      <td>150.016603</td>\n",
       "      <td>818.742801</td>\n",
       "    </tr>\n",
       "    <tr>\n",
       "      <td>2018-12-14 08:09:14.166885+00:00</td>\n",
       "      <td>24.874094</td>\n",
       "      <td>164.145142</td>\n",
       "      <td>877.737645</td>\n",
       "    </tr>\n",
       "    <tr>\n",
       "      <td>2018-12-14 09:09:14.166885+00:00</td>\n",
       "      <td>26.518202</td>\n",
       "      <td>179.327643</td>\n",
       "      <td>895.113811</td>\n",
       "    </tr>\n",
       "    <tr>\n",
       "      <td>2018-12-14 10:09:14.166885+00:00</td>\n",
       "      <td>25.130893</td>\n",
       "      <td>194.557858</td>\n",
       "      <td>880.584049</td>\n",
       "    </tr>\n",
       "    <tr>\n",
       "      <td>2018-12-14 11:09:14.166885+00:00</td>\n",
       "      <td>20.900794</td>\n",
       "      <td>208.804686</td>\n",
       "      <td>826.120333</td>\n",
       "    </tr>\n",
       "    <tr>\n",
       "      <td>...</td>\n",
       "      <td>...</td>\n",
       "      <td>...</td>\n",
       "      <td>...</td>\n",
       "    </tr>\n",
       "    <tr>\n",
       "      <td>2019-12-14 02:09:14.166885+00:00</td>\n",
       "      <td>-26.293564</td>\n",
       "      <td>99.015738</td>\n",
       "      <td>0.000000</td>\n",
       "    </tr>\n",
       "    <tr>\n",
       "      <td>2019-12-14 03:09:14.166885+00:00</td>\n",
       "      <td>-15.179919</td>\n",
       "      <td>107.744372</td>\n",
       "      <td>0.000000</td>\n",
       "    </tr>\n",
       "    <tr>\n",
       "      <td>2019-12-14 04:09:14.166885+00:00</td>\n",
       "      <td>-4.602638</td>\n",
       "      <td>116.720816</td>\n",
       "      <td>0.000000</td>\n",
       "    </tr>\n",
       "    <tr>\n",
       "      <td>2019-12-14 05:09:14.166885+00:00</td>\n",
       "      <td>5.289303</td>\n",
       "      <td>126.481117</td>\n",
       "      <td>262.779136</td>\n",
       "    </tr>\n",
       "    <tr>\n",
       "      <td>2019-12-14 06:09:14.166885+00:00</td>\n",
       "      <td>13.702505</td>\n",
       "      <td>137.480506</td>\n",
       "      <td>675.043102</td>\n",
       "    </tr>\n",
       "  </tbody>\n",
       "</table>\n",
       "<p>8760 rows × 3 columns</p>\n",
       "</div>"
      ],
      "text/plain": [
       "                                   altitude     azimuth  solar_radiation\n",
       "date                                                                    \n",
       "2018-12-14 07:09:14.166885+00:00  20.420587  150.016603       818.742801\n",
       "2018-12-14 08:09:14.166885+00:00  24.874094  164.145142       877.737645\n",
       "2018-12-14 09:09:14.166885+00:00  26.518202  179.327643       895.113811\n",
       "2018-12-14 10:09:14.166885+00:00  25.130893  194.557858       880.584049\n",
       "2018-12-14 11:09:14.166885+00:00  20.900794  208.804686       826.120333\n",
       "...                                     ...         ...              ...\n",
       "2019-12-14 02:09:14.166885+00:00 -26.293564   99.015738         0.000000\n",
       "2019-12-14 03:09:14.166885+00:00 -15.179919  107.744372         0.000000\n",
       "2019-12-14 04:09:14.166885+00:00  -4.602638  116.720816         0.000000\n",
       "2019-12-14 05:09:14.166885+00:00   5.289303  126.481117       262.779136\n",
       "2019-12-14 06:09:14.166885+00:00  13.702505  137.480506       675.043102\n",
       "\n",
       "[8760 rows x 3 columns]"
      ]
     },
     "execution_count": 152,
     "metadata": {},
     "output_type": "execute_result"
    }
   ],
   "source": [
    "df"
   ]
  },
  {
   "cell_type": "code",
   "execution_count": null,
   "metadata": {},
   "outputs": [],
   "source": []
  }
 ],
 "metadata": {
  "kernelspec": {
   "display_name": "Python 3",
   "language": "python",
   "name": "python3"
  },
  "language_info": {
   "codemirror_mode": {
    "name": "ipython",
    "version": 3
   },
   "file_extension": ".py",
   "mimetype": "text/x-python",
   "name": "python",
   "nbconvert_exporter": "python",
   "pygments_lexer": "ipython3",
   "version": "3.7.4"
  },
  "toc": {
   "base_numbering": 1,
   "nav_menu": {},
   "number_sections": true,
   "sideBar": true,
   "skip_h1_title": false,
   "title_cell": "Table of Contents",
   "title_sidebar": "Contents",
   "toc_cell": false,
   "toc_position": {},
   "toc_section_display": true,
   "toc_window_display": false
  },
  "varInspector": {
   "cols": {
    "lenName": 16,
    "lenType": 16,
    "lenVar": 40
   },
   "kernels_config": {
    "python": {
     "delete_cmd_postfix": "",
     "delete_cmd_prefix": "del ",
     "library": "var_list.py",
     "varRefreshCmd": "print(var_dic_list())"
    },
    "r": {
     "delete_cmd_postfix": ") ",
     "delete_cmd_prefix": "rm(",
     "library": "var_list.r",
     "varRefreshCmd": "cat(var_dic_list()) "
    }
   },
   "position": {
    "height": "583px",
    "left": "1118px",
    "right": "20px",
    "top": "120px",
    "width": "302px"
   },
   "types_to_exclude": [
    "module",
    "function",
    "builtin_function_or_method",
    "instance",
    "_Feature"
   ],
   "window_display": false
  }
 },
 "nbformat": 4,
 "nbformat_minor": 2
}
