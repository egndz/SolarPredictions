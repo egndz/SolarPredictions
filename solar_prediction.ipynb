{
 "cells": [
  {
   "cell_type": "code",
   "execution_count": 46,
   "metadata": {
    "ExecuteTime": {
     "end_time": "2019-12-13T20:42:08.363588Z",
     "start_time": "2019-12-13T20:42:08.358544Z"
    }
   },
   "outputs": [],
   "source": [
    "from pysolar import solar\n",
    "import datetime"
   ]
  },
  {
   "cell_type": "code",
   "execution_count": 71,
   "metadata": {
    "ExecuteTime": {
     "end_time": "2019-12-13T20:46:44.738422Z",
     "start_time": "2019-12-13T20:46:44.734279Z"
    }
   },
   "outputs": [],
   "source": [
    "def get_altitude_by_location(lat,lon,date):\n",
    "    return solar.get_altitude(lat, lon, date)\n",
    "\n",
    "def get_azimuth_by_location(lat,lon,date):\n",
    "    return get_azimuth(lat, lon, date)\n",
    "\n",
    "def get_radiation_by_location(lat,lon,date):\n",
    "    return radiation.get_radiation_direct(date, get_altitude_by_loc(lat,lon,date))\n"
   ]
  },
  {
   "cell_type": "code",
   "execution_count": 73,
   "metadata": {
    "ExecuteTime": {
     "end_time": "2019-12-13T20:46:54.121194Z",
     "start_time": "2019-12-13T20:46:54.117318Z"
    }
   },
   "outputs": [],
   "source": [
    "now = datetime.datetime.now(datetime.timezone.utc)"
   ]
  },
  {
   "cell_type": "code",
   "execution_count": 74,
   "metadata": {
    "ExecuteTime": {
     "end_time": "2019-12-13T20:46:54.314502Z",
     "start_time": "2019-12-13T20:46:54.307836Z"
    }
   },
   "outputs": [
    {
     "data": {
      "text/plain": [
       "3.5020612083084797"
      ]
     },
     "execution_count": 74,
     "metadata": {},
     "output_type": "execute_result"
    }
   ],
   "source": [
    "get_altitude_by_location(42.206, -71.382,now)"
   ]
  },
  {
   "cell_type": "code",
   "execution_count": 75,
   "metadata": {
    "ExecuteTime": {
     "end_time": "2019-12-13T20:46:54.466806Z",
     "start_time": "2019-12-13T20:46:54.459894Z"
    }
   },
   "outputs": [
    {
     "data": {
      "text/plain": [
       "234.25769860096307"
      ]
     },
     "execution_count": 75,
     "metadata": {},
     "output_type": "execute_result"
    }
   ],
   "source": [
    "get_azimuth_by_location(42.206, -71.382,now)"
   ]
  },
  {
   "cell_type": "code",
   "execution_count": 72,
   "metadata": {
    "ExecuteTime": {
     "end_time": "2019-12-13T20:46:52.126342Z",
     "start_time": "2019-12-13T20:46:52.117969Z"
    }
   },
   "outputs": [
    {
     "name": "stderr",
     "output_type": "stream",
     "text": [
      "/Users/egehangunduz/opt/anaconda3/lib/python3.7/site-packages/pysolar/solartime.py:112: UserWarning: I don't know about leap seconds after 2018\n",
      "  (leap_seconds_base_year + len(leap_seconds_adjustments) - 1)\n"
     ]
    },
    {
     "data": {
      "text/plain": [
       "140.5566321030585"
      ]
     },
     "execution_count": 72,
     "metadata": {},
     "output_type": "execute_result"
    }
   ],
   "source": [
    "get_radiation_by_location(42.206, -71.382,now)"
   ]
  },
  {
   "cell_type": "code",
   "execution_count": null,
   "metadata": {},
   "outputs": [],
   "source": []
  }
 ],
 "metadata": {
  "kernelspec": {
   "display_name": "Python 3",
   "language": "python",
   "name": "python3"
  },
  "language_info": {
   "codemirror_mode": {
    "name": "ipython",
    "version": 3
   },
   "file_extension": ".py",
   "mimetype": "text/x-python",
   "name": "python",
   "nbconvert_exporter": "python",
   "pygments_lexer": "ipython3",
   "version": "3.7.4"
  },
  "toc": {
   "base_numbering": 1,
   "nav_menu": {},
   "number_sections": true,
   "sideBar": true,
   "skip_h1_title": false,
   "title_cell": "Table of Contents",
   "title_sidebar": "Contents",
   "toc_cell": false,
   "toc_position": {},
   "toc_section_display": true,
   "toc_window_display": false
  },
  "varInspector": {
   "cols": {
    "lenName": 16,
    "lenType": 16,
    "lenVar": 40
   },
   "kernels_config": {
    "python": {
     "delete_cmd_postfix": "",
     "delete_cmd_prefix": "del ",
     "library": "var_list.py",
     "varRefreshCmd": "print(var_dic_list())"
    },
    "r": {
     "delete_cmd_postfix": ") ",
     "delete_cmd_prefix": "rm(",
     "library": "var_list.r",
     "varRefreshCmd": "cat(var_dic_list()) "
    }
   },
   "types_to_exclude": [
    "module",
    "function",
    "builtin_function_or_method",
    "instance",
    "_Feature"
   ],
   "window_display": false
  }
 },
 "nbformat": 4,
 "nbformat_minor": 2
}
