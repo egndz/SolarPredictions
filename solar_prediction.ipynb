{
 "cells": [
  {
   "cell_type": "code",
   "execution_count": null,
   "metadata": {
    "ExecuteTime": {
     "end_time": "2019-12-13T21:23:54.411517Z",
     "start_time": "2019-12-13T21:23:54.407231Z"
    }
   },
   "outputs": [],
   "source": [
    "import random\n",
    "from pysolar import solar\n",
    "import datetime\n",
    "import reverse_geocoder as rg "
   ]
  },
  {
   "cell_type": "code",
   "execution_count": null,
   "metadata": {
    "ExecuteTime": {
     "end_time": "2019-12-13T21:23:54.581312Z",
     "start_time": "2019-12-13T21:23:54.577352Z"
    }
   },
   "outputs": [],
   "source": [
    "now = datetime.datetime.now(datetime.timezone.utc)\n",
    "date_format = \"%b %d %Y %H:%15:%00\"\n",
    "total_minutes_in_year = 60*24*365\n",
    "\n",
    "#Turkey's latitude and longitude ranges\n",
    "min_latitude = 35.9025\n",
    "max_latitude = 42.0268\n",
    "min_longitude = 25.9090\n",
    "max_longitude = 44.5742"
   ]
  },
  {
   "cell_type": "code",
   "execution_count": null,
   "metadata": {
    "ExecuteTime": {
     "end_time": "2019-12-13T21:23:54.731887Z",
     "start_time": "2019-12-13T21:23:54.725571Z"
    }
   },
   "outputs": [],
   "source": [
    "def get_altitude_by_location(lat,lon,date):\n",
    "    return solar.get_altitude(lat, lon, date)\n",
    "\n",
    "def get_azimuth_by_location(lat,lon,date):\n",
    "    return solar.get_azimuth(lat, lon, date)\n",
    "\n",
    "def get_radiation_by_location(lat,lon,date):\n",
    "    return solar.radiation.get_radiation_direct(date, get_altitude_by_loc(lat,lon,date))"
   ]
  },
  {
   "cell_type": "code",
   "execution_count": null,
   "metadata": {
    "ExecuteTime": {
     "end_time": "2019-12-13T21:23:54.903269Z",
     "start_time": "2019-12-13T21:23:54.899836Z"
    }
   },
   "outputs": [],
   "source": [
    "def get_solar_info(lat,lon,date):\n",
    "    return 1"
   ]
  },
  {
   "cell_type": "code",
   "execution_count": null,
   "metadata": {
    "ExecuteTime": {
     "end_time": "2019-12-13T21:23:55.066253Z",
     "start_time": "2019-12-13T21:23:55.061961Z"
    }
   },
   "outputs": [],
   "source": [
    "def get_location(coordinates):\n",
    "    return rg.search(coordinates) "
   ]
  },
  {
   "cell_type": "code",
   "execution_count": null,
   "metadata": {
    "ExecuteTime": {
     "end_time": "2019-12-13T21:23:55.728880Z",
     "start_time": "2019-12-13T21:23:55.530019Z"
    }
   },
   "outputs": [],
   "source": [
    "def get_random_location(min_lat,max_lat,min_lon,max_lon):\n",
    "     return random.uniform(min_lat,max_lat), random.uniform(min_lon,max_lon)\n",
    "\n",
    "location = get_random_location(min_latitude,max_latitude,min_longitude,max_longitude)\n",
    "print(\"Coordinates\", location)\n",
    "result = get_location(location)\n",
    "print(\"City name is\" , result[0][\"admin1\"], \"\\nCounty name is\" ,result[0][\"name\"])"
   ]
  },
  {
   "cell_type": "code",
   "execution_count": null,
   "metadata": {
    "ExecuteTime": {
     "end_time": "2019-12-13T21:23:14.456363Z",
     "start_time": "2019-12-13T21:23:10.624031Z"
    }
   },
   "outputs": [],
   "source": [
    "for min_diff in range(total_minutes_in_year,0,-15):\n",
    "    past_date = datetime.datetime.now() - datetime.timedelta(minutes=min_diff)\n",
    "    print(past_date.strftime(date_format))"
   ]
  },
  {
   "cell_type": "code",
   "execution_count": null,
   "metadata": {
    "ExecuteTime": {
     "end_time": "2019-12-13T21:00:50.476877Z",
     "start_time": "2019-12-13T21:00:50.466048Z"
    }
   },
   "outputs": [],
   "source": [
    "get_altitude_by_location(42.206, -71.382,now)"
   ]
  },
  {
   "cell_type": "code",
   "execution_count": null,
   "metadata": {
    "ExecuteTime": {
     "end_time": "2019-12-13T21:00:50.509857Z",
     "start_time": "2019-12-13T21:00:50.497777Z"
    }
   },
   "outputs": [],
   "source": [
    "get_azimuth_by_location(42.206, -71.382,now)"
   ]
  },
  {
   "cell_type": "code",
   "execution_count": null,
   "metadata": {
    "ExecuteTime": {
     "end_time": "2019-12-13T21:00:50.554387Z",
     "start_time": "2019-12-13T21:00:50.546515Z"
    }
   },
   "outputs": [],
   "source": [
    "get_radiation_by_location(42.206, -71.382,now)"
   ]
  },
  {
   "cell_type": "code",
   "execution_count": null,
   "metadata": {},
   "outputs": [],
   "source": []
  }
 ],
 "metadata": {
  "kernelspec": {
   "display_name": "Python 3",
   "language": "python",
   "name": "python3"
  },
  "language_info": {
   "codemirror_mode": {
    "name": "ipython",
    "version": 3
   },
   "file_extension": ".py",
   "mimetype": "text/x-python",
   "name": "python",
   "nbconvert_exporter": "python",
   "pygments_lexer": "ipython3",
   "version": "3.7.4"
  },
  "toc": {
   "base_numbering": 1,
   "nav_menu": {},
   "number_sections": true,
   "sideBar": true,
   "skip_h1_title": false,
   "title_cell": "Table of Contents",
   "title_sidebar": "Contents",
   "toc_cell": false,
   "toc_position": {},
   "toc_section_display": true,
   "toc_window_display": false
  },
  "varInspector": {
   "cols": {
    "lenName": 16,
    "lenType": 16,
    "lenVar": 40
   },
   "kernels_config": {
    "python": {
     "delete_cmd_postfix": "",
     "delete_cmd_prefix": "del ",
     "library": "var_list.py",
     "varRefreshCmd": "print(var_dic_list())"
    },
    "r": {
     "delete_cmd_postfix": ") ",
     "delete_cmd_prefix": "rm(",
     "library": "var_list.r",
     "varRefreshCmd": "cat(var_dic_list()) "
    }
   },
   "types_to_exclude": [
    "module",
    "function",
    "builtin_function_or_method",
    "instance",
    "_Feature"
   ],
   "window_display": false
  }
 },
 "nbformat": 4,
 "nbformat_minor": 2
}
